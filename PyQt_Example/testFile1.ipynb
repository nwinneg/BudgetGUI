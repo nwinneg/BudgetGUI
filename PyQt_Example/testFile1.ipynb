{
 "cells": [
  {
   "attachments": {},
   "cell_type": "markdown",
   "metadata": {},
   "source": [
    "### Testfile for PyQt GUI Development\n",
    "2023-05-26"
   ]
  },
  {
   "attachments": {},
   "cell_type": "markdown",
   "metadata": {},
   "source": [
    "#### Basic Window with Printed Message"
   ]
  },
  {
   "cell_type": "code",
   "execution_count": 2,
   "metadata": {},
   "outputs": [],
   "source": [
    "# Import Libraries\n",
    "import sys\n",
    "from PyQt6.QtWidgets import ( \n",
    "    QApplication, \n",
    "    QLabel, \n",
    "    QWidget,\n",
    ") \n",
    "\n",
    "# Create instance of Q Application -- should be done before any GUI object in PyQt\n",
    "app = QApplication([])\n",
    "thisApp = False; # Toggle true to run \n",
    "\n",
    "# Create application GUI\n",
    "window = QWidget()\n",
    "window.setWindowTitle('PyQt Test App') # Title of this window in the app\n",
    "window.setGeometry(100,100,280,80); # [Placement x, Placement y, Width, Height]\n",
    "helloMsg = QLabel(\"<h1>Hello World!</h1>\",parent=window)\n",
    "helloMsg.move(60,15) # Set coords of msg in application window\n",
    "\n",
    "# Run the application\n",
    "if thisApp:\n",
    "    window.show()\n",
    "    sys.exit(app.exec())"
   ]
  },
  {
   "attachments": {},
   "cell_type": "markdown",
   "metadata": {},
   "source": [
    "#### Box layout and buttons"
   ]
  },
  {
   "cell_type": "code",
   "execution_count": 1,
   "metadata": {},
   "outputs": [
    {
     "ename": "SystemExit",
     "evalue": "0",
     "output_type": "error",
     "traceback": [
      "An exception has occurred, use %tb to see the full traceback.\n",
      "\u001b[1;31mSystemExit\u001b[0m\u001b[1;31m:\u001b[0m 0\n"
     ]
    },
    {
     "name": "stderr",
     "output_type": "stream",
     "text": [
      "C:\\Users\\nwinn\\AppData\\Local\\Packages\\PythonSoftwareFoundation.Python.3.8_qbz5n2kfra8p0\\LocalCache\\local-packages\\Python38\\site-packages\\IPython\\core\\interactiveshell.py:3441: UserWarning: To exit: use 'exit', 'quit', or Ctrl-D.\n",
      "  warn(\"To exit: use 'exit', 'quit', or Ctrl-D.\", stacklevel=1)\n"
     ]
    }
   ],
   "source": [
    "import sys\n",
    "from PyQt6.QtWidgets import (\n",
    "    QApplication,\n",
    "    QPushButton,\n",
    "    QWidget,\n",
    "    QHBoxLayout, # Horizontal box layout\n",
    "    QVBoxLayout, # Vertical box layout\n",
    "    QGridLayout, # Grid Layout\n",
    ")\n",
    "app = QApplication([])\n",
    "thisApp = True # Toggle true to run this app\n",
    "\n",
    "window = QWidget()\n",
    "window.setWindowTitle('QGridLayout')\n",
    "\n",
    "layout = QGridLayout()\n",
    "layout.addWidget(QPushButton(\"Button (0, 0)\"), 0, 0)\n",
    "layout.addWidget(QPushButton(\"Button (0, 1)\"), 0, 1)\n",
    "layout.addWidget(QPushButton(\"Button (0, 2)\"), 0, 2)\n",
    "layout.addWidget(QPushButton(\"Button (1, 0)\"), 1, 0)\n",
    "layout.addWidget(QPushButton(\"Button (1, 1)\"), 1, 1)\n",
    "layout.addWidget(QPushButton(\"Button (1, 2)\"), 1, 2)\n",
    "layout.addWidget(QPushButton(\"Button (2, 0)\"), 2, 0)\n",
    "layout.addWidget(\n",
    "    QPushButton(\"Button (2, 1) + 2 Columns Span\"), 2, 1, 1, 2\n",
    ")\n",
    "window.setLayout(layout)\n",
    "\n",
    "if thisApp:\n",
    "    window.show()\n",
    "    sys.exit(app.exec())"
   ]
  }
 ],
 "metadata": {
  "kernelspec": {
   "display_name": "Python 3",
   "language": "python",
   "name": "python3"
  },
  "language_info": {
   "codemirror_mode": {
    "name": "ipython",
    "version": 3
   },
   "file_extension": ".py",
   "mimetype": "text/x-python",
   "name": "python",
   "nbconvert_exporter": "python",
   "pygments_lexer": "ipython3",
   "version": "3.8.10"
  },
  "orig_nbformat": 4,
  "vscode": {
   "interpreter": {
    "hash": "8469d5dc4fd2c184f29964862ac83a9e1686f7d0957597ebc9300921abcb1135"
   }
  }
 },
 "nbformat": 4,
 "nbformat_minor": 2
}
