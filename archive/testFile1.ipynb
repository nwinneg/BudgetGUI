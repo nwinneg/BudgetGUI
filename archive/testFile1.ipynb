{
 "cells": [
  {
   "attachments": {},
   "cell_type": "markdown",
   "metadata": {},
   "source": [
    "### Testfile for PyQt GUI Development\n",
    "2023-05-26"
   ]
  },
  {
   "attachments": {},
   "cell_type": "markdown",
   "metadata": {},
   "source": [
    "#### Basic Window with Printed Message"
   ]
  },
  {
   "cell_type": "code",
   "execution_count": null,
   "metadata": {},
   "outputs": [],
   "source": [
    "# Import Libraries\n",
    "import sys\n",
    "from PyQt6.QtWidgets import ( \n",
    "    QApplication, \n",
    "    QLabel, \n",
    "    QWidget,\n",
    ") \n",
    "\n",
    "# Create instance of Q Application -- should be done before any GUI object in PyQt\n",
    "app = QApplication([])\n",
    "thisApp = False; # Toggle true to run \n",
    "\n",
    "# Create application GUI\n",
    "window = QWidget()\n",
    "window.setWindowTitle('PyQt Test App') # Title of this window in the app\n",
    "window.setGeometry(100,100,280,80); # [Placement x, Placement y, Width, Height]\n",
    "helloMsg = QLabel(\"<h1>Hello World!</h1>\",parent=window)\n",
    "helloMsg.move(60,15) # Set coords of msg in application window\n",
    "\n",
    "# Run the application\n",
    "if thisApp:\n",
    "    window.show()\n",
    "    sys.exit(app.exec())"
   ]
  },
  {
   "attachments": {},
   "cell_type": "markdown",
   "metadata": {},
   "source": [
    "#### Box layout and buttons"
   ]
  },
  {
   "cell_type": "code",
   "execution_count": null,
   "metadata": {},
   "outputs": [],
   "source": [
    "import sys\n",
    "from PyQt6.QtWidgets import QApplication, QMainWindow, QWidget, QVBoxLayout, QGroupBox, QPushButton\n",
    "\n",
    "class MainWindow(QMainWindow):\n",
    "    def __init__(self):\n",
    "        super().__init__()\n",
    "        self.setWindowTitle(\"Button Group Example\")\n",
    "        self.setGeometry(300, 300, 300, 200)\n",
    "\n",
    "        self.initUI()\n",
    "\n",
    "    def initUI(self):\n",
    "        # Create a central widget\n",
    "        central_widget = QWidget(self)\n",
    "        self.setCentralWidget(central_widget)\n",
    "\n",
    "        # Create a vertical layout for the central widget\n",
    "        layout = QVBoxLayout(central_widget)\n",
    "\n",
    "        # Create a group box\n",
    "        group_box = QGroupBox(\"Button Group\")\n",
    "\n",
    "        # Create two buttons\n",
    "        button1 = QPushButton(\"Button 1\")\n",
    "        button2 = QPushButton(\"Button 2\")\n",
    "\n",
    "        # Add the buttons to the group box\n",
    "        group_layout = QVBoxLayout()\n",
    "        group_layout.addWidget(button1)\n",
    "        group_layout.addWidget(button2)\n",
    "        group_box.setLayout(group_layout)\n",
    "\n",
    "        # Add the group box to the central widget layout\n",
    "        layout.addWidget(group_box)\n",
    "\n",
    "if __name__ == \"__main__\":\n",
    "    app = QApplication(sys.argv)\n",
    "    mainWindow = MainWindow()\n",
    "    mainWindow.show()\n",
    "    sys.exit(app.exec())"
   ]
  },
  {
   "cell_type": "code",
   "execution_count": null,
   "metadata": {},
   "outputs": [],
   "source": [
    "# Modifying a dictionary\n"
   ]
  }
 ],
 "metadata": {
  "kernelspec": {
   "display_name": "Python 3",
   "language": "python",
   "name": "python3"
  },
  "language_info": {
   "codemirror_mode": {
    "name": "ipython",
    "version": 3
   },
   "file_extension": ".py",
   "mimetype": "text/x-python",
   "name": "python",
   "nbconvert_exporter": "python",
   "pygments_lexer": "ipython3",
   "version": "3.8.10"
  },
  "orig_nbformat": 4,
  "vscode": {
   "interpreter": {
    "hash": "8469d5dc4fd2c184f29964862ac83a9e1686f7d0957597ebc9300921abcb1135"
   }
  }
 },
 "nbformat": 4,
 "nbformat_minor": 2
}
